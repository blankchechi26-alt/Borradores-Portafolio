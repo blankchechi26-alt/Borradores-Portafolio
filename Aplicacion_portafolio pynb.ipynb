{
  "nbformat": 4,
  "nbformat_minor": 0,
  "metadata": {
    "colab": {
      "provenance": []
    },
    "kernelspec": {
      "name": "python3",
      "display_name": "Python 3"
    },
    "language_info": {
      "name": "python"
    }
  },
  "cells": [
    {
      "cell_type": "code",
      "execution_count": null,
      "metadata": {
        "id": "DxzG3LOuUGHk"
      },
      "outputs": [],
      "source": [
        "import streamlit as st\n",
        "import pandas as pd"
      ]
    },
    {
      "cell_type": "code",
      "source": [
        "st.title('ANÁLISIS DE PORTAFOLIO DE INVERSIÓN')"
      ],
      "metadata": {
        "colab": {
          "base_uri": "https://localhost:8080/"
        },
        "id": "ATRY5C6iWltY",
        "outputId": "3bf289ec-d043-44c3-bbc9-ac122fd0fe79"
      },
      "execution_count": null,
      "outputs": [
        {
          "output_type": "stream",
          "name": "stderr",
          "text": [
            "2025-10-08 19:54:14.853 Thread 'MainThread': missing ScriptRunContext! This warning can be ignored when running in bare mode.\n",
            "2025-10-08 19:54:14.855 Thread 'MainThread': missing ScriptRunContext! This warning can be ignored when running in bare mode.\n",
            "2025-10-08 19:54:14.856 Thread 'MainThread': missing ScriptRunContext! This warning can be ignored when running in bare mode.\n"
          ]
        },
        {
          "output_type": "execute_result",
          "data": {
            "text/plain": [
              "DeltaGenerator()"
            ]
          },
          "metadata": {},
          "execution_count": 21
        }
      ]
    },
    {
      "cell_type": "code",
      "source": [
        "st.markdown('**INTEGRANTES DEL GRUPO**')\n",
        "\n",
        "st.markdown('Andrea Velasquez')\n",
        "\n",
        "st.markdown('Blanca Alvarez')"
      ],
      "metadata": {
        "colab": {
          "base_uri": "https://localhost:8080/"
        },
        "id": "ad9zer1faJnD",
        "outputId": "00e1ee18-ad51-41a4-d855-4484424acc87"
      },
      "execution_count": null,
      "outputs": [
        {
          "output_type": "stream",
          "name": "stderr",
          "text": [
            "2025-10-08 20:11:52.884 Thread 'MainThread': missing ScriptRunContext! This warning can be ignored when running in bare mode.\n",
            "2025-10-08 20:11:52.886 Thread 'MainThread': missing ScriptRunContext! This warning can be ignored when running in bare mode.\n",
            "2025-10-08 20:11:52.887 Thread 'MainThread': missing ScriptRunContext! This warning can be ignored when running in bare mode.\n",
            "2025-10-08 20:11:52.890 Thread 'MainThread': missing ScriptRunContext! This warning can be ignored when running in bare mode.\n",
            "2025-10-08 20:11:52.892 Thread 'MainThread': missing ScriptRunContext! This warning can be ignored when running in bare mode.\n",
            "2025-10-08 20:11:52.893 Thread 'MainThread': missing ScriptRunContext! This warning can be ignored when running in bare mode.\n",
            "2025-10-08 20:11:52.894 Thread 'MainThread': missing ScriptRunContext! This warning can be ignored when running in bare mode.\n",
            "2025-10-08 20:11:52.895 Thread 'MainThread': missing ScriptRunContext! This warning can be ignored when running in bare mode.\n",
            "2025-10-08 20:11:52.897 Thread 'MainThread': missing ScriptRunContext! This warning can be ignored when running in bare mode.\n"
          ]
        },
        {
          "output_type": "execute_result",
          "data": {
            "text/plain": [
              "DeltaGenerator()"
            ]
          },
          "metadata": {},
          "execution_count": 25
        }
      ]
    },
    {
      "cell_type": "code",
      "source": [
        "Temas=['Definición','Tipos de analisis de portafolio', 'Selección de la propuesta', 'Herramienta', 'Referencias']"
      ],
      "metadata": {
        "id": "FUcrd65-db8B"
      },
      "execution_count": null,
      "outputs": []
    },
    {
      "cell_type": "code",
      "source": [
        "Tema_seleccionado=st.selectbox('selecciona un tema;', Temas)"
      ],
      "metadata": {
        "colab": {
          "base_uri": "https://localhost:8080/"
        },
        "id": "cqRK2_QQeK5m",
        "outputId": "352c7f5a-f197-4ca7-c756-db98ff44c62a"
      },
      "execution_count": null,
      "outputs": [
        {
          "output_type": "stream",
          "name": "stderr",
          "text": [
            "2025-10-08 20:59:23.215 Thread 'MainThread': missing ScriptRunContext! This warning can be ignored when running in bare mode.\n",
            "2025-10-08 20:59:23.217 Thread 'MainThread': missing ScriptRunContext! This warning can be ignored when running in bare mode.\n",
            "2025-10-08 20:59:23.218 Thread 'MainThread': missing ScriptRunContext! This warning can be ignored when running in bare mode.\n",
            "2025-10-08 20:59:23.219 Thread 'MainThread': missing ScriptRunContext! This warning can be ignored when running in bare mode.\n",
            "2025-10-08 20:59:23.221 Thread 'MainThread': missing ScriptRunContext! This warning can be ignored when running in bare mode.\n",
            "2025-10-08 20:59:23.221 Thread 'MainThread': missing ScriptRunContext! This warning can be ignored when running in bare mode.\n",
            "2025-10-08 20:59:23.222 Thread 'MainThread': missing ScriptRunContext! This warning can be ignored when running in bare mode.\n"
          ]
        }
      ]
    },
    {
      "cell_type": "code",
      "source": [
        "st.write('Has seleccionado:', Tema_seleccionado)"
      ],
      "metadata": {
        "colab": {
          "base_uri": "https://localhost:8080/"
        },
        "id": "Ow26xI5ufoK-",
        "outputId": "30132de4-b8ef-4bcf-90a8-742a2f66245c"
      },
      "execution_count": null,
      "outputs": [
        {
          "output_type": "stream",
          "name": "stderr",
          "text": [
            "2025-10-08 20:24:03.372 Thread 'MainThread': missing ScriptRunContext! This warning can be ignored when running in bare mode.\n",
            "2025-10-08 20:24:03.374 Thread 'MainThread': missing ScriptRunContext! This warning can be ignored when running in bare mode.\n",
            "2025-10-08 20:24:03.375 Thread 'MainThread': missing ScriptRunContext! This warning can be ignored when running in bare mode.\n",
            "2025-10-08 20:24:03.377 Thread 'MainThread': missing ScriptRunContext! This warning can be ignored when running in bare mode.\n",
            "2025-10-08 20:24:03.377 Thread 'MainThread': missing ScriptRunContext! This warning can be ignored when running in bare mode.\n",
            "2025-10-08 20:24:03.379 Thread 'MainThread': missing ScriptRunContext! This warning can be ignored when running in bare mode.\n"
          ]
        }
      ]
    },
    {
      "cell_type": "code",
      "source": [],
      "metadata": {
        "id": "vsGsXo3BjEkk"
      },
      "execution_count": null,
      "outputs": []
    },
    {
      "cell_type": "code",
      "source": [
        "if Tema_seleccionado=='Definición':\n",
        "    st.markdown('''**ANÁLISIS DE PORTAFOLIO DE INVERSIÓN:**\n",
        "\n",
        "Un Análisis de Portafolio de Inversión consiste en estudiar y evaluar el conjunto de activos financieros (acciones, bonos, bienes raíces, entre otros) en el que una persona o empresa ha invertido. El objetivo de este análisis es entender cómo se comportan esos activos, tanto en términos de riesgo como de rentabilidad.\n",
        "\n",
        "**Principios elementales de inversión**.\n",
        "En todo instrumento financiero de un portafolio de inversión tienen\n",
        "que considerarse los siguientes elementos:\n",
        "\n",
        "- ***Rendimiento***: Es la ganancia que se obtendría y está dada en función a la tasa y al plazo de inversión.\n",
        "\n",
        "Es la estimación de las ganancias que se espera obtener de las inversiones a lo largo del tiempo. Este rendimiento puede variar dependiendo de las condiciones del mercado, pero es importante proyectarlo para tomar decisiones informadas.\n",
        "\n",
        "- ***Riesgo***: Se refiere a la posibilidad de que los rendimientos no se den como se esperaba. En este contexto, se suelen usar herramientas estadísticas como la volatilidad (que mide las fluctuaciones de los precios de los activos), la varianza y la desviación estándar para cuantificar cuán impredecibles o inestables son los rendimientos.\n",
        "\n",
        "Debe determinarse cuánto riesgo se está dispuesto a asumir.\n",
        "\n",
        "- ***Diversificación y correlación***: Uno de los principios clave en la gestión de un portafolio es diversificar. Esto significa invertir en diferentes tipos de activos que no se muevan de manera idéntica. La correlación entre los activos muestra si sus rendimientos tienden a moverse juntos o en direcciones opuestas. Idealmente, se buscan activos con baja correlación entre sí, para reducir el riesgo total del portafolio.\n",
        "\n",
        "Es decir, en lugar de invertir todo el capital en un solo activo (como, por ejemplo, solo en acciones de una empresa), se distribuye entre diferentes activos, clases de activos o mercados. Al hacer esto, se busca minimizar el impacto de los posibles rendimientos negativos de un activo específico.\n",
        "\n",
        "- ***Relación riesgo-retorno***: Un análisis de portafolio también evalúa si el rendimiento que se espera obtener justifica el riesgo que se asume. Es decir, busca encontrar un balance entre obtener buenos rendimientos sin exponerse a un riesgo excesivo.\n",
        "\n",
        "**En resumen**, Un portafolio de inversión es un conjunto de activos financieros que se combinan para generar rendimientos con un nivel de riesgo controlado. La diversificación busca repartir el dinero entre diferentes activos para reducir riesgos, mientras que la correlación mide cómo se comportan esos activos entre sí. El objetivo es equilibrar el riesgo y el retorno para optimizar las ganancias.\n",
        "\n",
        "Es una herramienta crucial para los inversionistas que buscan maximizar su rentabilidad y minimizar los riesgos asociados con sus decisiones financieras.''')\n",
        "elif Tema_seleccionado=='Tipos de analisis de portafolio':\n",
        "    st.markdown('''**TIPOS DE ANALISIS DE PORTAFOLIO:**\n",
        "***Presentamos las siguientes propuestas:***\n",
        "\n",
        "**Propuesta 1:**\n",
        "\n",
        "**Optimización de portafolio: Frontera eficiente**\n",
        "\n",
        "La frontera eficiente es un concepto clave en la optimización de portafolios de inversión. Se refiere a la combinación ideal de activos que te permite maximizar el rendimiento para un nivel de riesgo dado, o minimizar el riesgo para un rendimiento esperado. Esta idea fue propuesta por Harry Markowitz en 1952, quien mostró cómo diversificar adecuadamente las inversiones puede reducir el riesgo total de un portafolio sin sacrificar el rendimiento.\n",
        "\n",
        "En términos simples, la frontera eficiente es como un \"mapa\" que te guía a la mejor relación entre riesgo y ganancia. Al elegir los activos correctos y combinarlos de manera eficiente, puedes obtener el máximo rendimiento posible sin asumir un riesgo excesivo. Además, el riesgo total del portafolio no es solo la suma de los riesgos de cada activo, sino que también depende de cómo se comportan juntos, es decir, de la covarianza entre los activos.\n",
        "\n",
        "La importancia de la frontera eficiente radica en que te ayuda a crear un portafolio óptimo, balanceando riesgo y rentabilidad de manera informada y estratégica.\n",
        "\n",
        "En resumen, la frontera eficiente ayuda a encontrar la mejor relación entre riesgo y rentabilidad, utilizando la diversificación para reducir el riesgo total del portafolio. Esto convierte a la optimización de portafolios en una herramienta clave para los inversionistas que buscan maximizar el rendimiento mientras controlan el riesgo.\n",
        "\n",
        "\n",
        "**Propuesta 2:**\n",
        "\n",
        "**Efecto de la Correlación y Diversificación**\n",
        "\n",
        "La diversificación y la correlación son dos conceptos clave para gestionar el riesgo y optimizar los rendimientos en un portafolio de inversión. Ambos están muy relacionados y, cuando se usan correctamente, permiten reducir el riesgo y maximizar las ganancias.\n",
        "\n",
        "**Diversificación:**\n",
        "\n",
        "La diversificación es una estrategia en la que se distribuye el dinero entre diferentes tipos de activos (acciones, bonos, bienes raíces, etc.) para minimizar el riesgo de perder todo el dinero en caso de que un activo tenga mal rendimiento. Al tener inversiones en distintos sectores o mercados, si uno pierde valor, el rendimiento de otros activos puede compensarlo.\n",
        "\n",
        "- ***Ejemplo:*** Si solo inviertes en acciones de tecnología y el sector tecnológico cae, todo tu portafolio perdería valor. Pero si también inviertes en otros activos como bonos o acciones de sectores como energía o salud, es menos probable que todos los activos caigan al mismo tiempo, lo que reduce el riesgo global.\n",
        "\n",
        "La diversificación ayuda a reducir el riesgo idiosincrático, es decir, el riesgo específico de una empresa o sector. La clave es elegir activos que no se comporten de la misma forma, para que si uno baja, el otro no tenga que hacerlo.\n",
        "\n",
        "**Correlación:**\n",
        "\n",
        "La correlación mide cómo se comportan dos activos en relación entre sí. Existen tres tipos de correlación:\n",
        "\n",
        "- ***Correlación positiva (+1):*** Cuando un activo sube, el otro también sube. Los activos se mueven en la misma dirección.\n",
        "**Ejemplo:** Dos acciones tecnológicas que suben o bajan juntas.\n",
        "\n",
        "- ***Correlación negativa (-1):*** Cuando un activo sube, el otro baja. Esto es útil para la diversificación, ya que reduce el riesgo total al equilibrar los movimientos.\n",
        "**Ejemplo:** Si las acciones caen, los bonos pueden subir, ya que los inversores buscan refugio en los bonos seguros.\n",
        "\n",
        "- ***Correlación cero (0):*** Los activos no tienen relación entre sí, es decir, sus movimientos no afectan al otro.\n",
        "**Ejemplo:** El precio del oro y las acciones de una empresa tecnológica pueden no estar relacionados.\n",
        "\n",
        "***Relación entre Diversificación y Correlación:***\n",
        "\n",
        "La diversificación es más efectiva cuando se seleccionan activos con baja correlación. Si todos los activos se comportan de la misma forma (correlación positiva alta), no estarás reduciendo el riesgo. Por el contrario, si eliges activos con correlación negativa o baja, el riesgo total del portafolio se reduce, ya que los rendimientos de un activo pueden compensar las pérdidas de otro.\n",
        "\n",
        "Markowitz (1952) fue uno de los primeros en mostrar que la diversificación se logra mejor cuando los activos tienen bajas covarianzas entre sí. Según el, es importante evitar invertir en activos con altas covarianzas y, en su lugar, diversificar a través de sectores diferentes, ya que los activos de distintos sectores tienden a tener menores covarianzas que aquellos dentro del mismo sector. Esto hace que el portafolio sea más resistente a fluctuaciones del mercado.\n",
        "\n",
        "Estas herramientas ayudan a construir un portafolio equilibrado que maximiza las oportunidades de ganancia y minimiza el riesgo total, asegurando una mayor estabilidad frente a fluctuaciones del mercado.\n",
        "\n",
        "\n",
        "**Propuesta 3:Análisis de rentabilidad y riesgo***\n",
        "\n",
        "El análisis de rentabilidad y riesgo es fundamental en la toma de decisiones de inversión. Permite a los inversionistas evaluar las posibles ganancias de una inversión en relación con el riesgo que están dispuestos a asumir.\n",
        "\n",
        "**Rentabilidad:**\n",
        "\n",
        "La rentabilidad mide el rendimiento de una inversión durante un periodo de tiempo. Se calcula como la diferencia entre el valor final y el valor inicial de la inversión, expresada como un porcentaje. Existen dos formas de medirla:\n",
        "\n",
        "- ***Rentabilidad Absoluta:*** Simplemente calcula la ganancia o pérdida en relación con la inversión inicial.\n",
        "\n",
        "- ***Rentabilidad Annualizada (CAGR):*** Permite comparar inversiones de diferente duración al calcular el rendimiento promedio anual.\n",
        "\n",
        "Las acciones suelen tener una rentabilidad más alta, pero también más volátil, mientras que los bonos ofrecen una rentabilidad más baja, pero con menos riesgo.\n",
        "\n",
        "**Riesgo:**\n",
        "\n",
        "El riesgo mide la incertidumbre sobre los rendimientos futuros. El riesgo puede ser de dos tipos:\n",
        "\n",
        "- ***Riesgo Sistemático (de mercado):*** Es el riesgo que afecta a todo el mercado, como cambios en la economía o políticas gubernamentales. Este tipo de riesgo no se puede eliminar mediante diversificación.\n",
        "\n",
        "- ***Riesgo No Sistemático (específico):*** Es el riesgo asociado con un activo específico, como una empresa. Este riesgo puede reducirse al diversificar el portafolio.\n",
        "\n",
        "**El riesgo se mide con:**\n",
        "\n",
        "- ***Volatilidad (Desviación estándar):*** Indica cuánto fluctúa el precio o rendimiento de un activo. Cuanto mayor es la volatilidad, mayor es el riesgo.\n",
        "\n",
        "- ***Beta (β):*** Mide la sensibilidad de un activo respecto al mercado. Un beta alto significa que el activo es más volátil que el mercado.\n",
        "\n",
        "**En resumen,** el análisis de rentabilidad y riesgo permite a los inversionistas tomar decisiones informadas, balanceando los rendimientos esperados con los riesgos involucrados. La diversificación y la frontera eficiente son herramientas fundamentales para crear un portafolio equilibrado que maximice las ganancias sin asumir riesgos excesivos.\n",
        "\n",
        "''')\n",
        "elif Tema_seleccionado=='Selección de la propuesta':\n",
        "    st.markdown('''**Selección de la propuesta**\n",
        "\n",
        "    ***Diversificación y correlación**\n",
        "\n",
        " Elegimos la propuesta de Diversificación y Correlación porque nos permite analizar cómo combinar diferentes activos para reducir el riesgo total del portafolio. Utilizaremos Python en Google Colab para calcular las correlaciones entre los activos y evaluar cómo la diversificación mejora la estabilidad del portafolio. Con librerías como NumPy, Pandas y Matplotlib, podremos analizar de manera eficiente las relaciones entre los activos, calcular métricas clave como el rendimiento esperado y la volatilidad, y visualizar los resultados, lo que nos ayudará a tomar decisiones más informadas en la construcción de un portafolio equilibrado.\n",
        "    ''')\n",
        "elif Tema_seleccionado=='Herramienta':\n",
        "    st.markdown('''**Herramientas de trabajo**\n",
        "- Python en google Colab\n",
        "- Github (para versionar y compartir el proyecto''')\n",
        "elif Tema_seleccionado=='Referencias':\n",
        "    st.markdown('''**Referencias**\n",
        "  -  https://hector.marinruiz.com.mx/wp-content/uploads/YMCAFCF03100414.pdf#page=14.10\n",
        " - https://www.investopedia.com/terms/p/portfolio.asp''')"
      ],
      "metadata": {
        "colab": {
          "base_uri": "https://localhost:8080/"
        },
        "outputId": "cdd02e65-3223-42ff-c73d-ff7512b2ac24",
        "id": "_HA_PIXvn2w-"
      },
      "execution_count": null,
      "outputs": [
        {
          "output_type": "stream",
          "name": "stderr",
          "text": [
            "2025-10-08 21:04:10.534 Thread 'MainThread': missing ScriptRunContext! This warning can be ignored when running in bare mode.\n",
            "2025-10-08 21:04:10.535 Thread 'MainThread': missing ScriptRunContext! This warning can be ignored when running in bare mode.\n",
            "2025-10-08 21:04:10.537 Thread 'MainThread': missing ScriptRunContext! This warning can be ignored when running in bare mode.\n"
          ]
        }
      ]
    }
  ]
}